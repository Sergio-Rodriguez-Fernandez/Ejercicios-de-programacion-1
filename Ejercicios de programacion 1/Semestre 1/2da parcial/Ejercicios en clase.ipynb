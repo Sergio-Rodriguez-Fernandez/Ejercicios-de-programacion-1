{
 "cells": [
  {
   "cell_type": "code",
   "execution_count": 1,
   "metadata": {},
   "outputs": [
    {
     "name": "stdout",
     "output_type": "stream",
     "text": [
      "60\n"
     ]
    }
   ],
   "source": [
    "n1:int=10\n",
    "n2:int=20\n",
    "n3:int=30\n",
    "print(n1+n2+n3)"
   ]
  },
  {
   "cell_type": "code",
   "execution_count": 2,
   "metadata": {},
   "outputs": [
    {
     "name": "stdout",
     "output_type": "stream",
     "text": [
      "1+1+1= 3\n"
     ]
    }
   ],
   "source": [
    "n1=int(input(\"dame el primer numero para sumar\"))\n",
    "n2=int(input(\"dame el segundo numero para sumar\"))\n",
    "n3=int(input(\"dame el tercer numero para sumar\"))\n",
    "sumar: int=n1+n2+n3\n",
    "print(f\"{n1}+{n2}+{n3}=\",sumar)"
   ]
  },
  {
   "cell_type": "markdown",
   "metadata": {},
   "source": [
    "obtener la edad de una persona a parir de su edad de nacimiento y el año actual"
   ]
  },
  {
   "cell_type": "code",
   "execution_count": null,
   "metadata": {},
   "outputs": [
    {
     "name": "stdout",
     "output_type": "stream",
     "text": [
      "tienes 52 años\n"
     ]
    }
   ],
   "source": [
    "a_actual:int=2023\n",
    "a_nacimiento:int=1971\n",
    "edad:int=a_actual-a_nacimiento\n",
    "print(f\"tienes {edad} años\")"
   ]
  },
  {
   "cell_type": "code",
   "execution_count": 2,
   "metadata": {},
   "outputs": [
    {
     "name": "stdout",
     "output_type": "stream",
     "text": [
      "Tienes 18 años\n"
     ]
    }
   ],
   "source": [
    "a_actual:int=int(input(\"Dame el año actual\"))\n",
    "a_nacimiento:int=int(input(\"Dame tu año de nacimiento\"))\n",
    "edad:int=a_actual- a_nacimiento\n",
    "print(f\"Tienes {edad} años\")"
   ]
  },
  {
   "cell_type": "code",
   "execution_count": 23,
   "metadata": {},
   "outputs": [],
   "source": [
    "def leer_anio(mensaje: str)->int:\n",
    "    return int(input(mensaje))\n",
    "    \n",
    "\n"
   ]
  },
  {
   "cell_type": "code",
   "execution_count": 16,
   "metadata": {},
   "outputs": [],
   "source": [
    "def leer_anio(mensaje: str) -> int:\n",
    "    return int(input(mensaje))\n"
   ]
  },
  {
   "cell_type": "code",
   "execution_count": null,
   "metadata": {},
   "outputs": [
    {
     "name": "stdout",
     "output_type": "stream",
     "text": [
      "hola mundo\n"
     ]
    }
   ],
   "source": [
    "print(\"hola mundo\")"
   ]
  },
  {
   "cell_type": "code",
   "execution_count": null,
   "metadata": {},
   "outputs": [
    {
     "name": "stdout",
     "output_type": "stream",
     "text": [
      "salida de pantalla\n"
     ]
    },
    {
     "data": {
      "text/plain": [
       "'hola'"
      ]
     },
     "execution_count": 2,
     "metadata": {},
     "output_type": "execute_result"
    }
   ],
   "source": [
    "print(\"salida de pantalla\")\n",
    "input(\"entrada de datos\")"
   ]
  },
  {
   "cell_type": "markdown",
   "metadata": {},
   "source": [
    "CONDICIONES"
   ]
  },
  {
   "cell_type": "code",
   "execution_count": null,
   "metadata": {},
   "outputs": [
    {
     "name": "stdout",
     "output_type": "stream",
     "text": [
      "es mayor de edad\n"
     ]
    }
   ],
   "source": [
    "edad=19\n",
    "if edad<18:\n",
    "    print(\"es menor de edad\")\n",
    "else:\n",
    "    print(\"es mayor de edad\")"
   ]
  },
  {
   "cell_type": "code",
   "execution_count": null,
   "metadata": {},
   "outputs": [
    {
     "name": "stdout",
     "output_type": "stream",
     "text": [
      "es menor de edad\n"
     ]
    }
   ],
   "source": [
    "edad=15\n",
    "if edad>=18:\n",
    "    print(\"es mayor de edad\")\n",
    "else:\n",
    "    print(\"es menor de edad\")"
   ]
  },
  {
   "cell_type": "markdown",
   "metadata": {},
   "source": [
    "###Ejercicio:\"Calcular la edad de una persona preguntando el año actual el año de nacimiento y validando que a_actual sea mayor que a_nacimiento. Validar que año actual es mayor a o\""
   ]
  },
  {
   "cell_type": "code",
   "execution_count": 3,
   "metadata": {},
   "outputs": [],
   "source": [
    "a_actual=int(input(\"Dame el año actual\"))\n",
    "if a_actual<=0:\n",
    "    print(\"Error en el año actuaL, tiene que ser mayor a 0\")"
   ]
  },
  {
   "cell_type": "code",
   "execution_count": 22,
   "metadata": {},
   "outputs": [
    {
     "name": "stdout",
     "output_type": "stream",
     "text": [
      "Debe de ser mayor de edad\n",
      "Eres mayor de edad\n",
      "edad: 19\n"
     ]
    }
   ],
   "source": [
    "edad =15\n",
    "while edad < 18:\n",
    "    edad=int(input(\"Dame la edad\"))\n",
    "    if edad < 18:\n",
    "        print(\"Debe de ser mayor de edad\")\n",
    "    else: \n",
    "        print(\"Eres mayor de edad\")\n",
    "\n",
    "print(f\"edad: {edad}\")\n"
   ]
  },
  {
   "cell_type": "code",
   "execution_count": 2,
   "metadata": {},
   "outputs": [
    {
     "name": "stdout",
     "output_type": "stream",
     "text": [
      "Error en el año actual\n",
      "Tienes 18 años\n"
     ]
    }
   ],
   "source": [
    "a_actual=0\n",
    "while a_actual<=0:\n",
    "    a_actual=int(input(\"Dame el año actual, tiene que ser mayor a 0\"))\n",
    "    if a_actual <=0:\n",
    "        print(\"Error en el año actual\")\n",
    "    \n",
    "\n",
    "a_nac=a_actual + 1\n",
    "while a_nac >a_actual:\n",
    "    a_nac= int(input(\"Dame el año de nacimiento\"))\n",
    "    if a_nac> a_actual:\n",
    "        print(\"El año de nacimiento debe ser menor o igual que el año actual\")\n",
    "\n",
    "print(f\"Tienes {a_actual - a_nac} años\") "
   ]
  },
  {
   "cell_type": "code",
   "execution_count": 13,
   "metadata": {},
   "outputs": [
    {
     "name": "stdout",
     "output_type": "stream",
     "text": [
      "Tienes 18 años\n"
     ]
    }
   ],
   "source": [
    "a_actual=0\n",
    "while a_actual<=0:\n",
    "    a_actual=int(input(\"Dame el año actual, tiene que ser mayor a 0\"))\n",
    "    if a_actual <=0:\n",
    "        print (\"Error en el año actual\")\n",
    "    \n",
    "\n",
    "a_nac =0\n",
    "while a_nac > a_actual or a_nac <=0:\n",
    "    a_nac= int(input(\"Dame el año de nacimiento\"))\n",
    "    if a_nac <=0:\n",
    "        print(\"Debe ser mayor a 0\")\n",
    "    elif a_nac> a_actual:\n",
    "        print(\"El año de nacimiento debe ser menor o igual que el año actual\")\n",
    "\n",
    "print(f\"Tienes {a_actual - a_nac} años\") "
   ]
  },
  {
   "cell_type": "code",
   "execution_count": 25,
   "metadata": {},
   "outputs": [
    {
     "name": "stdout",
     "output_type": "stream",
     "text": [
      "Error en el año actual\n",
      "El año de nacimiento debe ser menor o igual que el año actual\n",
      "Tienes 0 años\n"
     ]
    }
   ],
   "source": [
    "while True:\n",
    "    a_actual=int(input(\"Dame el año actual, tiene que ser mayor a 0\"))\n",
    "    if a_actual <=0:\n",
    "        print (\"Error en el año actual\")\n",
    "    else:\n",
    "        break\n",
    "    \n",
    "while True:\n",
    "    a_nac= int(input(\"Dame el año de nacimiento\"))\n",
    "    if a_nac <=0 or a_nac > a_actual:\n",
    "    \n",
    "        print(\"El año de nacimiento debe ser menor o igual que el año actual\")\n",
    "    else:\n",
    "        break\n",
    "\n",
    "print(f\"Tienes {a_actual - a_nac} años\") "
   ]
  },
  {
   "cell_type": "markdown",
   "metadata": {},
   "source": [
    "##escribir un programa que obtenga el promedio de n numeros leídos del teclado "
   ]
  },
  {
   "cell_type": "code",
   "execution_count": 26,
   "metadata": {},
   "outputs": [
    {
     "name": "stdout",
     "output_type": "stream",
     "text": [
      "El promedio es: 2.0\n"
     ]
    }
   ],
   "source": [
    "suma: int = 0\n",
    "i: int = 1\n",
    "\n",
    "while True:\n",
    "    num:int = int(input(f\"Dame el numero{i}\"))\n",
    "    suma = suma + num \n",
    "    i= i + 1\n",
    "    op = input(\"Deseas sumar mas numeros [s/n]\")\n",
    "    if op == \"N\" or op == \"n\":\n",
    "        break\n",
    "\n",
    "print(f\"El promedio es: {suma/i}\")"
   ]
  },
  {
   "cell_type": "code",
   "execution_count": 28,
   "metadata": {},
   "outputs": [
    {
     "name": "stdout",
     "output_type": "stream",
     "text": [
      "El promedio es: 2.5\n"
     ]
    }
   ],
   "source": [
    "suma: int = 0\n",
    "i: int = 1\n",
    "\n",
    "while True:\n",
    "    num:int = int(input(f\"Dame el numero{i},\"))\n",
    "    if num == 0:\n",
    "        break\n",
    "    elif num > 0:\n",
    "        suma = suma + num \n",
    "        i = i + 1\n",
    "    \n",
    "print(f\"El promedio es: {suma/i}\")"
   ]
  },
  {
   "cell_type": "markdown",
   "metadata": {},
   "source": [
    "preguntar por n calificaciones. validar que esten en el rango [0,10],indicar cuantos aprobaron, y la calificacion aprobatoria es 7"
   ]
  },
  {
   "cell_type": "code",
   "execution_count": 3,
   "metadata": {},
   "outputs": [
    {
     "name": "stdout",
     "output_type": "stream",
     "text": [
      "Alumnos aprobados: 1\n"
     ]
    }
   ],
   "source": [
    "while True:\n",
    "    n_cal = int(input(\"Cuantas calificaciones\"))\n",
    "    if n_cal <=0:\n",
    "        print(\"El numero de calificaciones debe ser mayor de 0\")\n",
    "    else:\n",
    "        break\n",
    "\n",
    "cont=0\n",
    "num_aprobados=0\n",
    "\n",
    "while cont<= n_cal-1:\n",
    "    cal= int(input(f\"Dame la calificacion {cont +1}\"))\n",
    "    if cal <=0 or cal>=10:\n",
    "        print(\"Calificacion invalida\")\n",
    "    else:\n",
    "        cont= cont+1\n",
    "        if cal >=7:\n",
    "            num_aprobados +=1\n",
    "\n",
    "print(f\"Alumnos aprobados: {num_aprobados}\")"
   ]
  },
  {
   "cell_type": "markdown",
   "metadata": {},
   "source": [
    "04/10/2023"
   ]
  },
  {
   "cell_type": "markdown",
   "metadata": {},
   "source": [
    "#leer datos del teclado\n",
    "#imprimir en pantalla\n",
    "#f strings\n",
    "#tipado,hints int,str. float\n",
    "#while\n"
   ]
  },
  {
   "cell_type": "code",
   "execution_count": 15,
   "metadata": {},
   "outputs": [
    {
     "name": "stdout",
     "output_type": "stream",
     "text": [
      "1 2 3 4 5 6 7 8 9 10 1 2 3 4 5 6 7 8 9 \n",
      "1 2 3 4 5 6 7 8 9 10 "
     ]
    }
   ],
   "source": [
    "x= range(1,10)\n",
    "x\n",
    "for i in range(1,11):#[1,10]\n",
    "    print(f\"{i}\", end=\" \")\n",
    "\n",
    "for i in x:\n",
    "    print(f\"{i}\",end=\" \")\n",
    "\n",
    "li:int = 1\n",
    "ls=int = 10\n",
    "print()\n",
    "for i in range (li, ls +1):\n",
    "    print(f\"{i}\",end=\" \")\n",
    "#for i in x:\n",
    "#    print (i)"
   ]
  },
  {
   "cell_type": "code",
   "execution_count": 8,
   "metadata": {},
   "outputs": [
    {
     "name": "stdout",
     "output_type": "stream",
     "text": [
      "1\n",
      "3\n",
      "5\n",
      "7\n",
      "9\n"
     ]
    }
   ],
   "source": [
    "x= range (1,10,2)\n",
    "\n",
    "for i in x:\n",
    "    print(i)"
   ]
  },
  {
   "cell_type": "code",
   "execution_count": 16,
   "metadata": {},
   "outputs": [
    {
     "data": {
      "text/plain": [
       "8"
      ]
     },
     "execution_count": 16,
     "metadata": {},
     "output_type": "execute_result"
    }
   ],
   "source": [
    "import random\n",
    "num = random.randint (5,10)\n",
    "num"
   ]
  },
  {
   "cell_type": "code",
   "execution_count": 17,
   "metadata": {},
   "outputs": [
    {
     "name": "stdout",
     "output_type": "stream",
     "text": [
      "8\n",
      "10\n",
      "5\n",
      "8\n",
      "5\n",
      "6\n",
      "5\n",
      "5\n",
      "5\n",
      "8\n"
     ]
    }
   ],
   "source": [
    "for _ in range(1,11):\n",
    "    print (random.randint (5,10)) #[5,10]"
   ]
  },
  {
   "cell_type": "markdown",
   "metadata": {},
   "source": [
    "###Ejercicio obtener la edad promedio de n personas preguntando su año de nacimiento y asumiendo que el año actual es 2023"
   ]
  },
  {
   "cell_type": "code",
   "execution_count": 18,
   "metadata": {},
   "outputs": [
    {
     "name": "stdout",
     "output_type": "stream",
     "text": [
      "Año de  nacimiento 1: 2010 | Edad 1: 13\n",
      "Año de  nacimiento 2: 2004 | Edad 2: 19\n",
      "Año de  nacimiento 3: 2014 | Edad 3: 9\n",
      "Año de  nacimiento 4: 2009 | Edad 4: 14\n",
      "Año de  nacimiento 5: 2023 | Edad 5: 0\n",
      "El promedio de edades es: 11.0\n"
     ]
    }
   ],
   "source": [
    "n: int = 5\n",
    "suma_edades: int= 0\n",
    "a_actual: int = 2023\n",
    "\n",
    "for i in range (1,n + 1):\n",
    "    a_nac = random.randint (1990, a_actual)\n",
    "    edad= a_actual - a_nac\n",
    "    suma_edades = suma_edades + edad\n",
    "    print(f\"Año de  nacimiento {i}: {a_nac} | Edad {i}: {edad}\")\n",
    "promedio_edades: float = suma_edades/n\n",
    "print (f\"El promedio de edades es: {promedio_edades}\")\n"
   ]
  },
  {
   "cell_type": "markdown",
   "metadata": {},
   "source": [
    "Ejercicio: Se desea saber la cantidad  de alumnos que pasaron una materia: son 25 y la calificacion aprobatoria es 7\n",
    "\n"
   ]
  },
  {
   "cell_type": "code",
   "execution_count": 19,
   "metadata": {},
   "outputs": [
    {
     "name": "stdout",
     "output_type": "stream",
     "text": [
      "Alumnos aprobados: 15\n",
      "Alumnos reprobados:10\n"
     ]
    }
   ],
   "source": [
    "n: int= 25\n",
    "alumnos_aprobados: int = 0\n",
    "\n",
    "for i in range(1,n+1):\n",
    "    cal =  random.randint (5,10)\n",
    "    if cal>=7 :\n",
    "        alumnos_aprobados +=1\n",
    "\n",
    "print(f\"Alumnos aprobados: {alumnos_aprobados}\")\n",
    "print ((f\"Alumnos reprobados:{n - alumnos_aprobados}\"))"
   ]
  },
  {
   "cell_type": "markdown",
   "metadata": {},
   "source": [
    "Ejercicio: Escriba un programa que calcule el cuadrado de un numero positivo leido desde un teclado"
   ]
  },
  {
   "cell_type": "code",
   "execution_count": 22,
   "metadata": {},
   "outputs": [
    {
     "name": "stdout",
     "output_type": "stream",
     "text": [
      " n= 20\n",
      "58^2 =  3364\n",
      "21^2 =  441\n",
      "90^2 =  8100\n",
      "83^2 =  6889\n",
      "75^2 =  5625\n",
      "62^2 =  3844\n",
      "27^2 =  729\n",
      "24^2 =  576\n",
      "58^2 =  3364\n",
      "62^2 =  3844\n",
      "58^2 =  3364\n",
      "9^2 =  81\n",
      "90^2 =  8100\n",
      "42^2 =  1764\n",
      "57^2 =  3249\n",
      "61^2 =  3721\n",
      "87^2 =  7569\n",
      "20^2 =  400\n",
      "6^2 =  36\n",
      "La suma de los cuadrados es: 36\n",
      "El promedio es: 3424.2105263157896\n"
     ]
    }
   ],
   "source": [
    "n = random.randint (1,20)\n",
    "suma_cuadrados = 0\n",
    "\n",
    "print(f\" n= {n}\")\n",
    "\n",
    "\n",
    "for _ in range(1,n):\n",
    "    num_pos = random.randint(1,100)\n",
    "    cuadrado= num_pos**2\n",
    "    suma_cuadrados += cuadrado\n",
    "    print(f\"{num_pos}^2 =  { num_pos**2}\")\n",
    "\n",
    "print (f\"La suma de los cuadrados es: {cuadrado}\")\n",
    "print (f\"El promedio es: {suma_cuadrados/(n-1)}\")"
   ]
  }
 ],
 "metadata": {
  "kernelspec": {
   "display_name": "Python 3",
   "language": "python",
   "name": "python3"
  },
  "language_info": {
   "codemirror_mode": {
    "name": "ipython",
    "version": 3
   },
   "file_extension": ".py",
   "mimetype": "text/x-python",
   "name": "python",
   "nbconvert_exporter": "python",
   "pygments_lexer": "ipython3",
   "version": "3.11.4"
  },
  "orig_nbformat": 4
 },
 "nbformat": 4,
 "nbformat_minor": 2
}
